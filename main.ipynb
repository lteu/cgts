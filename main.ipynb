{
 "cells": [
  {
   "cell_type": "markdown",
   "metadata": {},
   "source": [
    "# File preprocessing"
   ]
  },
  {
   "cell_type": "code",
   "execution_count": 1,
   "metadata": {},
   "outputs": [],
   "source": [
    "import os\n",
    "import sys\n",
    "import sys  \n",
    "sys.path.insert(0, 'lib')\n",
    "from preprocessing import generateWorkingFile"
   ]
  },
  {
   "cell_type": "code",
   "execution_count": 8,
   "metadata": {},
   "outputs": [
    {
     "name": "stdout",
     "output_type": "stream",
     "text": [
      "{\"outpath\": \"working/tmp.csv\", \"conversion\": \"none\", \"manipulation\": \"loggain\", \"msg\": \"The input file does not support the current preprocessing request; it yields too many NaNs.\"}\n"
     ]
    }
   ],
   "source": [
    "## Parameters for file preprocessing\n",
    "## Please wait until the working file is created\n",
    "file = \"data/sample.csv\"\n",
    "conversion = \"none\" # weekly,monthly,weeklyAvg,monthlyAvg\n",
    "manipulation = \"loggain\" # none, gain, loggain\n",
    "output = \"working/tmp.csv\"\n",
    "classFile = \"\"\n",
    "generateWorkingFile(file,conversion,manipulation,output,classFile)"
   ]
  },
  {
   "cell_type": "markdown",
   "metadata": {},
   "source": [
    "## Generate MST/Graph"
   ]
  },
  {
   "cell_type": "code",
   "execution_count": 3,
   "metadata": {},
   "outputs": [],
   "source": [
    "from mstweb import genGML\n",
    "import ipycytoscape"
   ]
  },
  {
   "cell_type": "code",
   "execution_count": 9,
   "metadata": {},
   "outputs": [
    {
     "name": "stdout",
     "output_type": "stream",
     "text": [
      "\n"
     ]
    }
   ],
   "source": [
    "inputCsv = \"data/sample.csv\"\n",
    "start = 20\n",
    "end = 300\n",
    "edgeThreshold = 0.2\n",
    "ifZNorm = False\n",
    "ifCompleteGraph = False\n",
    "presenceTreshold = 0.3\n",
    "maxEdges = 500\n",
    "ifClassGraph = False\n",
    "overlapThreshold = 0.3\n",
    "ifIncludeNegativeEdges = False\n",
    "outgml = \"working/tmp.gml\"\n",
    "G = genGML(inputCsv,start,end,edgeThreshold,ifZNorm,ifCompleteGraph,presenceTreshold,maxEdges,ifClassGraph,overlapThreshold,ifIncludeNegativeEdges,outgml)\n",
    "print(G)"
   ]
  },
  {
   "cell_type": "code",
   "execution_count": 10,
   "metadata": {},
   "outputs": [
    {
     "data": {
      "application/vnd.jupyter.widget-view+json": {
       "model_id": "b3f8ab33845f470b91542cb6a15532d5",
       "version_major": 2,
       "version_minor": 0
      },
      "text/plain": [
       "CytoscapeWidget(cytoscape_layout={'name': 'cola'}, cytoscape_style=[{'selector': 'node', 'css': {'background-c…"
      ]
     },
     "metadata": {},
     "output_type": "display_data"
    }
   ],
   "source": [
    "mst = ipycytoscape.CytoscapeWidget()\n",
    "mst.graph.add_graph_from_networkx(G)\n",
    "mst"
   ]
  }
 ],
 "metadata": {
  "kernelspec": {
   "display_name": "Python 3",
   "language": "python",
   "name": "python3"
  },
  "language_info": {
   "codemirror_mode": {
    "name": "ipython",
    "version": 3
   },
   "file_extension": ".py",
   "mimetype": "text/x-python",
   "name": "python",
   "nbconvert_exporter": "python",
   "pygments_lexer": "ipython3",
   "version": "3.8.5"
  }
 },
 "nbformat": 4,
 "nbformat_minor": 2
}
